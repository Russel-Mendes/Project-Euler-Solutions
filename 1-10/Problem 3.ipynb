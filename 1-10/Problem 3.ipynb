{
 "cells": [
  {
   "cell_type": "markdown",
   "metadata": {},
   "source": [
    "The prime factors of 13195 are 5, 7, 13 and 29.\n",
    "\n",
    "What is the largest prime factor of the number 600851475143 ?"
   ]
  },
  {
   "cell_type": "code",
   "execution_count": 48,
   "metadata": {},
   "outputs": [
    {
     "name": "stdout",
     "output_type": "stream",
     "text": [
      "6857.0\n"
     ]
    }
   ],
   "source": [
    "#Method Prime Factorization\n",
    "fac_array = []\n",
    "prime_track = 2\n",
    "num = 600851475143\n",
    "def prime_factorization(num, fac_array, prime_track):\n",
    "    while num >= prime_track **2:\n",
    "        if num % prime_track == 0:\n",
    "            fac_array.append(prime_track)\n",
    "            num = num/prime_track\n",
    "        else:\n",
    "            prime_track += 1\n",
    "    fac_array.append(num)\n",
    "    return fac_array\n",
    "fac_array = prime_factorization(num, fac_array, prime_track)\n",
    "print(max(fac_array))"
   ]
  }
 ],
 "metadata": {
  "kernelspec": {
   "display_name": "Python 3",
   "language": "python",
   "name": "python3"
  },
  "language_info": {
   "codemirror_mode": {
    "name": "ipython",
    "version": 3
   },
   "file_extension": ".py",
   "mimetype": "text/x-python",
   "name": "python",
   "nbconvert_exporter": "python",
   "pygments_lexer": "ipython3",
   "version": "3.6.7"
  }
 },
 "nbformat": 4,
 "nbformat_minor": 2
}
