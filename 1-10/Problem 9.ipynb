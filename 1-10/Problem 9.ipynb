{
 "cells": [
  {
   "cell_type": "markdown",
   "metadata": {},
   "source": [
    "A Pythagorean triplet is a set of three natural numbers, a < b < c, for which,\n",
    "\n",
    "a2 + b2 = c2\n",
    "For example, 3^2 + 4^2 = 9 + 16 = 25 = 5^2.\n",
    "\n",
    "There exists exactly one Pythagorean triplet for which a + b + c = 1000.\n",
    "Find the product abc."
   ]
  },
  {
   "cell_type": "code",
   "execution_count": 20,
   "metadata": {},
   "outputs": [
    {
     "name": "stdout",
     "output_type": "stream",
     "text": [
      "The Product is  31875000\n",
      "The Triple is 200 375 425\n"
     ]
    }
   ],
   "source": [
    "#Brute Force\n",
    "#Since the upper bound of the sum is 1000. We can arise the ratios\n",
    "max_val = 1000\n",
    "for a in range(max_val):\n",
    "    for b in range(a, max_val):\n",
    "        c = max_val - a - b\n",
    "        if c**2 == b**2 + a**2 and c > b:\n",
    "            answer = a * b * c\n",
    "            print(\"The Product is \", answer)\n",
    "            print(\"The Triple is\", a , b, c)\n",
    "            break\n",
    "            \n"
   ]
  }
 ],
 "metadata": {
  "kernelspec": {
   "display_name": "Python 3",
   "language": "python",
   "name": "python3"
  },
  "language_info": {
   "codemirror_mode": {
    "name": "ipython",
    "version": 3
   },
   "file_extension": ".py",
   "mimetype": "text/x-python",
   "name": "python",
   "nbconvert_exporter": "python",
   "pygments_lexer": "ipython3",
   "version": "3.6.7"
  }
 },
 "nbformat": 4,
 "nbformat_minor": 2
}
