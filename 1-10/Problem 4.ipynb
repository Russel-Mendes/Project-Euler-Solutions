{
 "cells": [
  {
   "cell_type": "markdown",
   "metadata": {},
   "source": [
    "A palindromic number reads the same both ways. The largest palindrome made from the product of two 2-digit numbers is 9009 = 91 × 99.\n",
    "\n",
    "Find the largest palindrome made from the product of two 3-digit numbers."
   ]
  },
  {
   "cell_type": "code",
   "execution_count": 25,
   "metadata": {},
   "outputs": [
    {
     "name": "stdout",
     "output_type": "stream",
     "text": [
      "The Max Palindrome of a 3 digit combination is:\n",
      "906609 = 993 * 913\n"
     ]
    }
   ],
   "source": [
    "#Narrow Brute Force\n",
    "#Since the max palindrome has to be less than 999 * 999 = 998001\n",
    "#The closest palindrome that is less than that is 997799\n",
    "#Thus, the bounds of 900-999 can be explored to reach a close value\n",
    "#Moreover, the loop can be done backwards to be closer to the max value\n",
    "def is_palindrome(number):\n",
    "    str_num = str(number)\n",
    "    rev_num = []\n",
    "    for_num = []\n",
    "    for i in str_num:\n",
    "        for_num.append(int(i))\n",
    "    rev_num = for_num[::-1]\n",
    "    return rev_num == for_num\n",
    "\n",
    "fir_num = 999\n",
    "max_palin_matrix = []\n",
    "while(fir_num > 899):\n",
    "    sec_num = 999\n",
    "    while(sec_num > 899):\n",
    "        number = sec_num * fir_num\n",
    "        if is_palindrome(number):\n",
    "            max_palin_matrix.append([number, fir_num, sec_num])\n",
    "        sec_num -= 1\n",
    "    fir_num -= 1\n",
    "\n",
    "max_palin_pair = max_palin_matrix[0]\n",
    "for pair in max_palin_matrix:\n",
    "    if pair[0] > max_palin_pair[0]:\n",
    "        max_palin_pair = pair\n",
    "print(\"The Max Palindrome of a 3 digit combination is:\")\n",
    "print(max_palin_pair[0], \"=\", max_palin_pair[1], \"*\", max_palin_pair[2])"
   ]
  }
 ],
 "metadata": {
  "kernelspec": {
   "display_name": "Python 3",
   "language": "python",
   "name": "python3"
  },
  "language_info": {
   "codemirror_mode": {
    "name": "ipython",
    "version": 3
   },
   "file_extension": ".py",
   "mimetype": "text/x-python",
   "name": "python",
   "nbconvert_exporter": "python",
   "pygments_lexer": "ipython3",
   "version": "3.6.7"
  }
 },
 "nbformat": 4,
 "nbformat_minor": 2
}
