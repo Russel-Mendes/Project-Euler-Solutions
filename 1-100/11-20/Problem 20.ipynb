{
 "cells": [
  {
   "cell_type": "code",
   "execution_count": 62,
   "metadata": {},
   "outputs": [],
   "source": [
    "#Get all the prime factors\n",
    "def primeFactor(num):\n",
    "    prime_track = 2\n",
    "    fac_array = []\n",
    "    while num >= prime_track ** 2:\n",
    "        if num % prime_track == 0:\n",
    "            fac_array.append(prime_track)\n",
    "            num = num/prime_track\n",
    "        else:\n",
    "            prime_track += 1\n",
    "    fac_array.append(int(num))\n",
    "    return fac_array\n",
    "\n",
    "def countPrimeFactors(prime_list, factor_dict):\n",
    "    set_list = set(prime_list)\n",
    "    key_list = factor_dict.keys()\n",
    "    for factor in set_list:\n",
    "        if(factor in key_list):\n",
    "            factor_dict[factor] = factor_dict[factor] + prime_list.count(factor)\n",
    "        else:\n",
    "            factor_dict[factor] = prime_list.count(factor)    \n",
    "\n",
    "def removeSimpleFactor(factor_dict):\n",
    "    two_count = factor_dict[2]\n",
    "    five_count = factor_dict[5]\n",
    "    if(two_count >= five_count):\n",
    "        factor_dict[2] = two_count-five_count\n",
    "        del factor_dict[5]\n",
    "    else:\n",
    "        factor_dict[5] = five_count-two_count\n",
    "        del factor_dict[2]"
   ]
  },
  {
   "cell_type": "code",
   "execution_count": 63,
   "metadata": {},
   "outputs": [
    {
     "name": "stdout",
     "output_type": "stream",
     "text": [
      "648\n"
     ]
    }
   ],
   "source": [
    "number_list = [x+1 for x in range(100)]\n",
    "prime_list = [primeFactor(x) for x in number_list]\n",
    "\n",
    "factor_dict = {}\n",
    "for factor_list in prime_list:\n",
    "    countPrimeFactors(factor_list, factor_dict)\n",
    "removeSimpleFactor(factor_dict)\n",
    "key_list = factor_dict.keys()\n",
    "\n",
    "final_val = 1\n",
    "for key in key_list:\n",
    "    final_val *= key ** factor_dict[key]\n",
    "\n",
    "string_value = str(final_val)\n",
    "ans = 0\n",
    "for char in string_value:\n",
    "    ans += int(char)\n",
    "print(ans)"
   ]
  },
  {
   "cell_type": "code",
   "execution_count": null,
   "metadata": {},
   "outputs": [],
   "source": []
  }
 ],
 "metadata": {
  "kernelspec": {
   "display_name": "Python 3",
   "language": "python",
   "name": "python3"
  },
  "language_info": {
   "codemirror_mode": {
    "name": "ipython",
    "version": 3
   },
   "file_extension": ".py",
   "mimetype": "text/x-python",
   "name": "python",
   "nbconvert_exporter": "python",
   "pygments_lexer": "ipython3",
   "version": "3.7.4"
  }
 },
 "nbformat": 4,
 "nbformat_minor": 2
}
