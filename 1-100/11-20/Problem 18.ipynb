{
 "cells": [
  {
   "cell_type": "code",
   "execution_count": 84,
   "metadata": {},
   "outputs": [],
   "source": [
    "def loadTriangle(triangle):\n",
    "    structure = []\n",
    "    counter = 1\n",
    "    target = 1\n",
    "    tmp = []\n",
    "    for ele in triangle:\n",
    "        if counter == target:\n",
    "            tmp.append(ele)\n",
    "            structure.append(tmp)\n",
    "            tmp = []\n",
    "            target += 1\n",
    "            counter = 1\n",
    "        else:\n",
    "            tmp.append(ele)\n",
    "            counter+=1\n",
    "    return structure"
   ]
  },
  {
   "cell_type": "code",
   "execution_count": 85,
   "metadata": {},
   "outputs": [],
   "source": [
    "INF = 100000\n",
    "class Graph:\n",
    "    def __init__(self, vertices):\n",
    "        self.V = vertices \n",
    "        self.graph = []\n",
    " \n",
    "    def addEdge(self, src, dst, wght):\n",
    "        self.graph.append([src, dst, wght])\n",
    "\n",
    "def DAGBellmandFord(graph, src, V):\n",
    "        # Step 1: Initialize distances from src to all other vertice as INFINITE\n",
    "        dist = [INF] * V\n",
    "        dist[src] = 0\n",
    "  \n",
    "        # Step 2: A simple shortest path from src to dst can have at-most |V| - 1 edges\n",
    "        for _ in range(V - 1):\n",
    "            # Update dist value and parent index of the adjacent vertices of\n",
    "            # the picked vertex. Consider only those vertices which are still in\n",
    "            # queue\n",
    "            for u, v, w in graph:              \n",
    "                if dist[u] != INF  and dist[u] + int(w) < dist[v]:\n",
    "                        dist[v] = dist[u] + int(w)\n",
    "        \n",
    "#        for i in range(V):\n",
    "#            print(\"{0}    {1}\".format(i, dist[i]))\n",
    "        \n",
    "        return dist\n",
    "\n",
    "def loadGraph(structure, triangle):\n",
    "    V = len(triangle)+2\n",
    "    g = Graph(V)\n",
    "    offset_left = 1\n",
    "    offset_right = 2\n",
    "    final = V-1\n",
    "    layers = len(structure)\n",
    "    nodes_per_layer = 1\n",
    "    curr_node = 1\n",
    "    \n",
    "    g.addEdge(0, 1, -1*int(structure[0][0]))\n",
    "    for layer in range(layers):\n",
    " #       print(layer, structure[layer])\n",
    "        weight_left = 0\n",
    "        weight_right = 1 \n",
    "        \n",
    "        for node in range(nodes_per_layer):\n",
    "            if(layer == layers-1):\n",
    "                g.addEdge(curr_node, V-1, -1)\n",
    "            else:\n",
    "                g.addEdge(curr_node, curr_node+offset_left, int(structure[layer+1][weight_left])*-1)\n",
    "                g.addEdge(curr_node, curr_node+offset_right, int(structure[layer+1][weight_right])*-1)\n",
    "                \n",
    "            curr_node += 1\n",
    "            weight_left += 1\n",
    "            weight_right += 1 \n",
    "        \n",
    "        offset_left += 1\n",
    "        offset_right += 1\n",
    "        nodes_per_layer +=1\n",
    "        \n",
    "    return g.graph, V"
   ]
  },
  {
   "cell_type": "code",
   "execution_count": 86,
   "metadata": {},
   "outputs": [],
   "source": [
    "triangle = \"75 95 64 17 47 82 18 35 87 10 20 04 82 47 65 19 01 23 75 03 34 88 02 77 73 07 63 67 99 65 04 28 06 16 70 92 41 41 26 56 83 40 80 70 33 41 48 72 33 47 32 37 16 94 29 53 71 44 65 25 43 91 52 97 51 14 70 11 33 28 77 73 17 78 39 68 17 57 91 71 52 38 17 14 91 43 58 50 27 29 48 63 66 04 68 89 53 67 30 73 16 69 87 40 31 04 62 98 27 23 09 70 98 73 93 38 53 60 04 23\".split(\" \")"
   ]
  },
  {
   "cell_type": "code",
   "execution_count": 87,
   "metadata": {},
   "outputs": [
    {
     "name": "stdout",
     "output_type": "stream",
     "text": [
      "1074\n",
      "Wall time: 6.98 ms\n"
     ]
    }
   ],
   "source": [
    "%%time\n",
    "structure = loadTriangle(triangle)\n",
    "graph, V = loadGraph(structure,triangle)\n",
    "dist = DAGBellmandFord(graph, 0, V)\n",
    "ans = (dist[-1]+1)*-1\n",
    "print(ans)"
   ]
  },
  {
   "cell_type": "code",
   "execution_count": null,
   "metadata": {},
   "outputs": [],
   "source": []
  }
 ],
 "metadata": {
  "kernelspec": {
   "display_name": "Python 3",
   "language": "python",
   "name": "python3"
  },
  "language_info": {
   "codemirror_mode": {
    "name": "ipython",
    "version": 3
   },
   "file_extension": ".py",
   "mimetype": "text/x-python",
   "name": "python",
   "nbconvert_exporter": "python",
   "pygments_lexer": "ipython3",
   "version": "3.7.4"
  }
 },
 "nbformat": 4,
 "nbformat_minor": 2
}
