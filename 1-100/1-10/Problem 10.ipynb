{
 "cells": [
  {
   "cell_type": "markdown",
   "metadata": {},
   "source": [
    "The sum of the primes below 10 is 2 + 3 + 5 + 7 = 17.\n",
    "\n",
    "Find the sum of all the primes below two million."
   ]
  },
  {
   "cell_type": "code",
   "execution_count": 9,
   "metadata": {},
   "outputs": [
    {
     "name": "stdout",
     "output_type": "stream",
     "text": [
      "The Sum of All Primes Below 2 Million is  142913828922\n"
     ]
    }
   ],
   "source": [
    "#Brute Force\n",
    "def prime_factorization(num):\n",
    "    prime_track = 2\n",
    "    fac_array = []\n",
    "    while num >= prime_track ** 2:\n",
    "        if num % prime_track == 0:\n",
    "            fac_array.append(prime_track)\n",
    "            num = num/prime_track\n",
    "            if len(fac_array) > 1:\n",
    "                break\n",
    "        else:\n",
    "            prime_track += 1\n",
    "    fac_array.append(int(num))\n",
    "    return fac_array\n",
    "#If there is more than 1 element in fac_array then it is not a prime\n",
    "prime_array = []\n",
    "number = 2 #primes start at 2\n",
    "while(number < 2000000):\n",
    "    fac_array = prime_factorization(number)\n",
    "    if len(fac_array) == 1:\n",
    "        prime_array.append(fac_array[0])\n",
    "    number +=1\n",
    "answer = sum(prime_array)\n",
    "print(\"The Sum of All Primes Below 2 Million is \", answer)"
   ]
  }
 ],
 "metadata": {
  "kernelspec": {
   "display_name": "Python 3",
   "language": "python",
   "name": "python3"
  },
  "language_info": {
   "codemirror_mode": {
    "name": "ipython",
    "version": 3
   },
   "file_extension": ".py",
   "mimetype": "text/x-python",
   "name": "python",
   "nbconvert_exporter": "python",
   "pygments_lexer": "ipython3",
   "version": "3.6.7"
  }
 },
 "nbformat": 4,
 "nbformat_minor": 2
}
