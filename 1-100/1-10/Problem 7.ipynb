{
 "cells": [
  {
   "cell_type": "markdown",
   "metadata": {},
   "source": [
    "By listing the first six prime numbers: 2, 3, 5, 7, 11, and 13, we can see that the 6th prime is 13.\n",
    "\n",
    "What is the 10 001st prime number?"
   ]
  },
  {
   "cell_type": "code",
   "execution_count": 12,
   "metadata": {},
   "outputs": [
    {
     "name": "stdout",
     "output_type": "stream",
     "text": [
      "104743\n"
     ]
    }
   ],
   "source": [
    "#Method Brute Force\n",
    "def prime_factorization(num):\n",
    "    prime_track = 2\n",
    "    fac_array = []\n",
    "    while num >= prime_track ** 2:\n",
    "        if num % prime_track == 0:\n",
    "            fac_array.append(prime_track)\n",
    "            num = num/prime_track\n",
    "        else:\n",
    "            prime_track += 1\n",
    "    fac_array.append(int(num))\n",
    "    return fac_array\n",
    "\n",
    "#If there are more than one factor then it is not a prime. \n",
    "prime_list = []\n",
    "next_number = 2\n",
    "while(len(prime_list) != 10001):\n",
    "    fac_array = prime_factorization(next_number)\n",
    "    if len(fac_array) == 1:\n",
    "        prime_list.append(fac_array[0])\n",
    "    next_number += 1\n",
    "print(prime_list[-1])"
   ]
  }
 ],
 "metadata": {
  "kernelspec": {
   "display_name": "Python 3",
   "language": "python",
   "name": "python3"
  },
  "language_info": {
   "codemirror_mode": {
    "name": "ipython",
    "version": 3
   },
   "file_extension": ".py",
   "mimetype": "text/x-python",
   "name": "python",
   "nbconvert_exporter": "python",
   "pygments_lexer": "ipython3",
   "version": "3.6.7"
  }
 },
 "nbformat": 4,
 "nbformat_minor": 2
}
