{
 "cells": [
  {
   "cell_type": "markdown",
   "metadata": {},
   "source": [
    "If we list all the natural numbers below 10 that are multiples of 3 or 5, we get 3, 5, 6 and 9. The sum of these multiples is 23.\n",
    "\n",
    "Find the sum of all the multiples of 3 or 5 below 1000."
   ]
  },
  {
   "cell_type": "code",
   "execution_count": 19,
   "metadata": {},
   "outputs": [
    {
     "name": "stdout",
     "output_type": "stream",
     "text": [
      "233168\n"
     ]
    }
   ],
   "source": [
    "#Brute Force Method: T(N) = 3N + 3 \n",
    "special_sum = 0\n",
    "N = 1000\n",
    "for i in range(N): \n",
    "    if i % 3 == 0 or i % 5 == 0:\n",
    "        special_sum += i\n",
    "print(special_sum)"
   ]
  },
  {
   "cell_type": "code",
   "execution_count": 18,
   "metadata": {},
   "outputs": [
    {
     "name": "stdout",
     "output_type": "stream",
     "text": [
      "233168\n"
     ]
    }
   ],
   "source": [
    "#Using Intuition: T(N) = (1/3)(3N + 3) + (1/5)(3N + 3) + (1/15)(3N + 3)\n",
    "#                      = (3/5)(3N + 3)\n",
    "#40% Step improvement\n",
    "special_sum = 0\n",
    "def sum_of_3_series(mx_bound):\n",
    "    special_sum_of_3 = 0\n",
    "    number_of_factors = int(mx_bound / 3)\n",
    "    for i in range(number_of_factors):\n",
    "        factor = i + 1 #The loop has to be inclusive\n",
    "        special_sum_of_3 += factor * 3\n",
    "    return special_sum_of_3\n",
    "\n",
    "def sum_of_5_series(mx_bound):\n",
    "    special_sum_of_5 = 0\n",
    "    number_of_factors = int(mx_bound / 5)\n",
    "    for i in range(number_of_factors):\n",
    "        factor = i + 1 #The loop has to be inclusive\n",
    "        special_sum_of_5 += factor * 5\n",
    "    return special_sum_of_5\n",
    "\n",
    "def sum_of_15_series(mx_bound):\n",
    "    special_sum_of_15 = 0\n",
    "    number_of_factors = int(mx_bound / 15)\n",
    "    for i in range(number_of_factors):\n",
    "        factor = i + 1 #The loop has to be inclusive\n",
    "        special_sum_of_15 += factor * 15\n",
    "    return special_sum_of_15\n",
    "\n",
    "#Max_bound is 999 as it less than 1000\n",
    "N = 1000 - 1\n",
    "special_sum = sum_of_3_series(N) + sum_of_5_series(N) - sum_of_15_series(N)\n",
    "print(special_sum)"
   ]
  },
  {
   "cell_type": "code",
   "execution_count": null,
   "metadata": {},
   "outputs": [],
   "source": []
  },
  {
   "cell_type": "code",
   "execution_count": null,
   "metadata": {},
   "outputs": [],
   "source": []
  }
 ],
 "metadata": {
  "kernelspec": {
   "display_name": "Python 3",
   "language": "python",
   "name": "python3"
  },
  "language_info": {
   "codemirror_mode": {
    "name": "ipython",
    "version": 3
   },
   "file_extension": ".py",
   "mimetype": "text/x-python",
   "name": "python",
   "nbconvert_exporter": "python",
   "pygments_lexer": "ipython3",
   "version": "3.6.7"
  }
 },
 "nbformat": 4,
 "nbformat_minor": 2
}
