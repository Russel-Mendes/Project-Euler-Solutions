{
 "cells": [
  {
   "cell_type": "markdown",
   "metadata": {},
   "source": [
    "2520 is the smallest number that can be divided by each of the numbers from 1 to 10 without any remainder.\n",
    "\n",
    "What is the smallest positive number that is evenly divisible by all of the numbers from 1 to 20?"
   ]
  },
  {
   "cell_type": "code",
   "execution_count": 26,
   "metadata": {},
   "outputs": [
    {
     "name": "stdout",
     "output_type": "stream",
     "text": [
      "The Smallest Divisble Number with the given params is 232792560\n"
     ]
    }
   ],
   "source": [
    "#Method Prime Factorization Composite\n",
    "#The smallest divisible number is the composite product of the largest prime \n",
    "#factorizations\n",
    "def prime_factorization(num):\n",
    "    prime_track = 2\n",
    "    fac_array = []\n",
    "    while num >= prime_track ** 2:\n",
    "        if num % prime_track == 0:\n",
    "            fac_array.append(prime_track)\n",
    "            num = num/prime_track\n",
    "        else:\n",
    "            prime_track += 1\n",
    "    fac_array.append(int(num))\n",
    "    return fac_array\n",
    "\n",
    "def max_unique_matrix(num_fac_matrix):\n",
    "    max_unique_matrix = {}\n",
    "    for matrix in num_fac_matrix:\n",
    "        fac_array = matrix[1]\n",
    "        for val_key in fac_array:\n",
    "            if val_key in max_unique_matrix:\n",
    "                if fac_array.count(val_key) > max_unique_matrix[val_key]:\n",
    "                    max_unique_matrix[val_key] = fac_array.count(val_key)\n",
    "            else:\n",
    "                max_unique_matrix[val_key] = fac_array.count(val_key)\n",
    "    return max_unique_matrix\n",
    "\n",
    "def smallest_composite_product(lower_bound, upper_bound):\n",
    "    num_fac_matrix = []  #[number, [fac_array]]\n",
    "    counter = lower_bound\n",
    "    while(counter <= upper_bound):\n",
    "        num_fac_matrix.append([counter, prime_factorization(counter)])\n",
    "        counter +=1\n",
    "    max_unique_dict = max_unique_matrix(num_fac_matrix)\n",
    "    \n",
    "    smallest_composite_product = 1\n",
    "    for key in max_unique_dict:\n",
    "        smallest_composite_product *= key ** max_unique_dict[key]\n",
    "    \n",
    "    return smallest_composite_product\n",
    "    \n",
    "\n",
    "lower_bound = 1\n",
    "upper_bound = 20\n",
    "answer = smallest_composite_product(lower_bound, upper_bound)\n",
    "print(\"The Smallest Divisble Number with the given params is\", answer)"
   ]
  },
  {
   "cell_type": "code",
   "execution_count": null,
   "metadata": {},
   "outputs": [],
   "source": []
  }
 ],
 "metadata": {
  "kernelspec": {
   "display_name": "Python 3",
   "language": "python",
   "name": "python3"
  },
  "language_info": {
   "codemirror_mode": {
    "name": "ipython",
    "version": 3
   },
   "file_extension": ".py",
   "mimetype": "text/x-python",
   "name": "python",
   "nbconvert_exporter": "python",
   "pygments_lexer": "ipython3",
   "version": "3.6.7"
  }
 },
 "nbformat": 4,
 "nbformat_minor": 2
}
